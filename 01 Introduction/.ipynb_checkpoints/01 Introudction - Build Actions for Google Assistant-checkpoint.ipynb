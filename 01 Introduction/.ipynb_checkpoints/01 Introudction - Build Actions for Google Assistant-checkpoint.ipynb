{
 "cells": [
  {
   "cell_type": "markdown",
   "metadata": {},
   "source": [
    "## What is Actions for Google ?  \n",
    "Actions on Google are basically apps on the Google Assistant. \n",
    "It lets users get things done through a conversational interface like a quick command to turn on some lights, do a google search, add an entry to your calender or a longer conversation, such as playing a trivia game.\n",
    "\n",
    "\n",
    "## Why is voice becoming popular ?  \n",
    "As you might have heard voice is becoming increasingly popular. You might have seen the popular video where the [Assistant places a call](https://www.youtube.com/watch?v=lXUQ-DdSDoE) and it sounds exactly like a human.  \n",
    "People have started using the Google Assistant or the Amazon Alexa on a daily basis now. It is estimated that by 2020, 30% of all web browsing sessions will be done without a screen. \n",
    "Voice is far more convenient and faster to get things done and we have the technology now. Slowly companies and brands are deploying voice apps to provide their services. Its up to us now to come up with innovative apps on the voice.   \n",
    "Here is a video by the famous enterepreneur Gary Vaynerchuck on [Why Voice will Win](https://www.youtube.com/watch?v=ZtnhzZ23P_E). Watch it to understand the true power of voice and its impact in the next few years. \n",
    "\n",
    "\n",
    "## Introduction to Actions on Google\n",
    "\n",
    "Based on : https://codelabs.developers.google.com/codelabs/actions-1/index.html\n",
    "\n",
    "* Actions on Google is a developer platform that lets you create software to extend the functionality of the Google Assistant. \n",
    "* It is available across more than 500 million devices, including smart speakers, phones, cars, TVs, headphones, and more.\n",
    "\n",
    "**What is an action ?**  \n",
    "An Action is an entry point into an interaction/app that you build for the Assistant. Users can invoke your Action by typing or speaking to the Assistant.  \n",
    "For example : Saying \"Hey Google, talk to Random Words\" will invoke the action *Random Words* and you will be in a conversation with it.  \n",
    "\n",
    "**Intent**  \n",
    "An intent is a goal or task that the user wants to do, like ordering coffee or setting a timer. In Actions on Google, this is represented as a unique identifier, with the corresponding user utterances that can trigger the intent. \n",
    "\n",
    "**Fulfillment**  \n",
    "A service, app, feed, conversation, or other logic that handles an intent and carries out the corresponding Action. For every intent we need to define some form of fulfillment. This will be the reply to the user intent. \n",
    "\n",
    "**What happens during a conversation ?**  \n",
    "* Actions are run entirely in the cloud.\n",
    "* Every Action supports a specific intent and has a corresponding fulfillment that processes the intent.\n",
    "* The user's device sends the user's utterance to the Google Assistant, which routes it to your fulfillment service via HTTP POST requests.\n",
    "* Your fulfillment figures out a relevant response and sends that back to the Assistant, which ultimately returns it to the user. \n",
    "  \n",
    "![What happens during a conversation](https://codelabs.developers.google.com/codelabs/actions-1/img/dbd725edb3a93e79.png)  \n",
    "  \n",
    "**Dialogflow**\n",
    "* Dialogflow is a web based service provided by Google that uses an agent to process user input. The sevice allows you to integrate conversational apps with your Assistant, as well as other conversational platforms.   \n",
    "* Dialogflow simplifies the task of understanding user input, extracting key words and phrases from the input, and returning responses using Natural Language Understanding (NLU). You can define how all this works within your Dialogflow agent.  \n",
    " \n",
    "![How Dialogflow handles user input](https://codelabs.developers.google.com/codelabs/actions-1/img/dd9b9b73a367c4a6.png)  \n",
    "\n",
    "  \n"
   ]
  },
  {
   "cell_type": "markdown",
   "metadata": {
    "collapsed": true
   },
   "source": [
    "## Create your first Action  \n",
    "**1. Enable necessary permissions**  \n",
    "Go to the [Activity Controls Page](https://myaccount.google.com/activitycontrols) and make sure the following permissions enabled:\n",
    "* Web & App activity\n",
    "* Device Information\n",
    "* Voice & Audio Activity  \n",
    "\n",
    "**2. Create an actions project**  \n",
    "* Open the [Actions Console](https://console.actions.google.com/)\n",
    "* Click on `Add/Import Project`  \n",
    "![Add/Import Project](https://docs.google.com/uc?id=1pRdMg3aaYWbDdx5xhlmQa9NfR3M3JGM3)  \n",
    "  \n",
    "  \n",
    "* Enter a project name. This name is for your reference, and you can set an external name that people will see later.  \n",
    "![Enter a name](https://docs.google.com/uc?id=1Yk5ChZyvQpjg_wh1ruzunfHssWeNCeWx)  \n",
    "  \n",
    "* Click `Create Project`. Now skip this page for now.  \n",
    "  \n",
    "  \n",
    "* Click `Build > Add Action` and click on `Add your first Action` in the next page.\n",
    "![Add action](https://docs.google.com/uc?id=1chJiF5hYRQ3tsg9QV3QsH-oBagQnzZjr)  \n",
    "  \n",
    "  \n",
    "* On the `Custom Intent` card, click `Build`   \n",
    "![build](https://docs.google.com/uc?id=1tZemhrpq9Rki8-bI7WeUx1VsiRAaECNP)  \n",
    "  \n",
    "  \n",
    "**3 Create a Dialogflow agent**  \n",
    "* Choose your account and accept the terms of service.   \n",
    "* Click `Create` to create a new agent !  \n",
    "  \n",
    "#### And that's it ! You have created your first Action !   \n",
    "In the next tutorial I will show you how to create intents and have a conversation with the user."
   ]
  }
 ],
 "metadata": {
  "kernelspec": {
   "display_name": "Python 2",
   "language": "python",
   "name": "python2"
  },
  "language_info": {
   "codemirror_mode": {
    "name": "ipython",
    "version": 2
   },
   "file_extension": ".py",
   "mimetype": "text/x-python",
   "name": "python",
   "nbconvert_exporter": "python",
   "pygments_lexer": "ipython2",
   "version": "2.7.12"
  }
 },
 "nbformat": 4,
 "nbformat_minor": 2
}
